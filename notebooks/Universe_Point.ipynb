{
 "cells": [
  {
   "cell_type": "code",
   "execution_count": 1,
   "metadata": {},
   "outputs": [
    {
     "data": {
      "text/plain": [
       "'C:\\\\Users\\\\Dev\\\\Desktop\\\\Python\\\\usau-py\\\\notebooks'"
      ]
     },
     "execution_count": 1,
     "metadata": {},
     "output_type": "execute_result"
    }
   ],
   "source": [
    "import os; os.getcwd()"
   ]
  },
  {
   "cell_type": "code",
   "execution_count": 2,
   "metadata": {},
   "outputs": [],
   "source": [
    "import sys; sys.path.append(os.path.dirname(os.getcwd()))"
   ]
  },
  {
   "cell_type": "code",
   "execution_count": 3,
   "metadata": {},
   "outputs": [],
   "source": [
    "import usau.reports\n",
    "from usau.reports import USAUResults"
   ]
  },
  {
   "cell_type": "code",
   "execution_count": 4,
   "metadata": {},
   "outputs": [],
   "source": [
    "from IPython.display import display, HTML\n",
    "import numpy as np\n",
    "import pandas as pd\n",
    "pd.options.display.width = 200\n",
    "pd.options.display.max_colwidth = 200\n",
    "pd.options.display.max_columns = 200\n",
    "\n",
    "%matplotlib inline\n",
    "import matplotlib.pyplot as plt\n",
    "import seaborn as sns"
   ]
  },
  {
   "cell_type": "code",
   "execution_count": 5,
   "metadata": {},
   "outputs": [],
   "source": [
    "# Read data from csv files\n",
    "data_dir = None\n",
    "data_dir = os.path.join(os.getcwd(), \"..\", \"usau\", \"data2\")"
   ]
  },
  {
   "cell_type": "code",
   "execution_count": 6,
   "metadata": {},
   "outputs": [],
   "source": [
    "tournaments = [{\"years\": [2014, 2015, 2016, 2017],\n",
    "                \"event\": \"nationals\",\n",
    "                \"level\": \"club\",\n",
    "               },\n",
    "               {\"years\": [2015, 2016, 2017],\n",
    "                \"event\": \"us open\",\n",
    "                \"level\": \"club\",\n",
    "               },\n",
    "               {\"years\": [2015, 2016, 2017],\n",
    "                \"event\": \"tct pro\",\n",
    "                \"level\": \"club\",\n",
    "               },\n",
    "              ]\n",
    "\n",
    "tourney_cache = {}\n",
    "for tourney in tournaments:\n",
    "    for year in tourney[\"years\"]:\n",
    "        for gender in tourney.get(\"genders\", USAUResults._GENDERS):\n",
    "            res = USAUResults.from_event(event=tourney[\"event\"],\n",
    "                                         level=tourney[\"level\"],\n",
    "                                         year=year,\n",
    "                                         gender=gender)\n",
    "            res.load_from_csvs(data_dir=data_dir)\n",
    "            tourney_cache[res._name()] = res"
   ]
  },
  {
   "cell_type": "markdown",
   "metadata": {},
   "source": [
    "Unfotunately there are quite a few problems with the data entry on the USAU site. There are several games where point-by-points are not collected until the end of the game, or mismatch with the officially recorded final scores. For some of these games I manually tried to figure out how the actual point-by-points had gone. For example, in the 2017 men's club nationals, the [Truck Stop - Dig pool play game](https://play.usaultimate.org/teams/events/match_report/?EventGameId=IFxqlEQsp0pbNpDxbf01hKrtHIrpvWe5nvGc39ytmms%3d) is listed as having a 14-12 final score to Dig, while the point-by-point shows Truck Stop going up 13-10 during the game. My exhaustive Twitter research shows that [Dig was keeping up with plays on Twitter](https://twitter.com/DiGUltimate/status/921020332257013760):\n",
    "\n",
    "> A perfect pull pins them deep. High stall huck floats out of bounds. Rusty hits Babbitt for the break goal 11-12. Cap is on, hard to 14\n",
    "\n",
    "and [Truck Stop might not have been](https://twitter.com/TruckStopUlti/status/921063887650349056):\n",
    "\n",
    "> Win over Condors. \n",
    "Loss to the Diglets. \n",
    "Game against Bravo next round after a bye.\n",
    "\n",
    "> To make up for our lack of tweeting, we're going to live tweet the Molly Brown/Schwa game this round."
   ]
  },
  {
   "cell_type": "code",
   "execution_count": 7,
   "metadata": {},
   "outputs": [],
   "source": [
    "score_list = []\n",
    "for res in tourney_cache.values():\n",
    "    scores = res.score_progressions.copy()\n",
    "    scores[\"gender\"] = res.gender\n",
    "    scores[\"year\"] = res.year\n",
    "    scores[\"event\"] = res.event_info[\"event\"][0]\n",
    "    scores[\"level\"] = res.event_info[\"level\"]\n",
    "    score_list.append(scores)\n",
    "score_progressions = pd.concat(score_list)"
   ]
  },
  {
   "cell_type": "code",
   "execution_count": 8,
   "metadata": {},
   "outputs": [],
   "source": [
    "results = score_progressions.groupby(\"url\").nth(-1)\n",
    "results = results.loc[results[\"away_score\"] + results[\"home_score\"] > 0]\n",
    "results[\"abs_diff\"] = (results[\"away_score\"] - results[\"home_score\"]).abs()"
   ]
  },
  {
   "cell_type": "code",
   "execution_count": 9,
   "metadata": {},
   "outputs": [
    {
     "data": {
      "text/html": [
       "<div>\n",
       "<style scoped>\n",
       "    .dataframe tbody tr th:only-of-type {\n",
       "        vertical-align: middle;\n",
       "    }\n",
       "\n",
       "    .dataframe tbody tr th {\n",
       "        vertical-align: top;\n",
       "    }\n",
       "\n",
       "    .dataframe thead th {\n",
       "        text-align: right;\n",
       "    }\n",
       "</style>\n",
       "<table border=\"1\" class=\"dataframe\">\n",
       "  <thead>\n",
       "    <tr style=\"text-align: right;\">\n",
       "      <th></th>\n",
       "      <th>Unnamed: 0</th>\n",
       "      <th>away_final_score</th>\n",
       "      <th>away_score</th>\n",
       "      <th>away_seed</th>\n",
       "      <th>away_team</th>\n",
       "      <th>event</th>\n",
       "      <th>gender</th>\n",
       "      <th>home_final_score</th>\n",
       "      <th>home_score</th>\n",
       "      <th>home_seed</th>\n",
       "      <th>home_team</th>\n",
       "      <th>level</th>\n",
       "      <th>year</th>\n",
       "      <th>abs_diff</th>\n",
       "    </tr>\n",
       "    <tr>\n",
       "      <th>url</th>\n",
       "      <th></th>\n",
       "      <th></th>\n",
       "      <th></th>\n",
       "      <th></th>\n",
       "      <th></th>\n",
       "      <th></th>\n",
       "      <th></th>\n",
       "      <th></th>\n",
       "      <th></th>\n",
       "      <th></th>\n",
       "      <th></th>\n",
       "      <th></th>\n",
       "      <th></th>\n",
       "      <th></th>\n",
       "    </tr>\n",
       "  </thead>\n",
       "  <tbody>\n",
       "    <tr>\n",
       "      <th>/teams/events/match_report/?EventGameId=7TjKJbS7SuldBH%2bWTYBDroKLQmwswKAqj7D8ef4ZAu0%3d</th>\n",
       "      <td>22</td>\n",
       "      <td>13</td>\n",
       "      <td>11</td>\n",
       "      <td>9</td>\n",
       "      <td>Nightlock</td>\n",
       "      <td>tct pro</td>\n",
       "      <td>women</td>\n",
       "      <td>15</td>\n",
       "      <td>11</td>\n",
       "      <td>1</td>\n",
       "      <td>Brute Squad</td>\n",
       "      <td>club</td>\n",
       "      <td>2017</td>\n",
       "      <td>0</td>\n",
       "    </tr>\n",
       "  </tbody>\n",
       "</table>\n",
       "</div>"
      ],
      "text/plain": [
       "                                                                                          Unnamed: 0  away_final_score  away_score  away_seed  away_team    event gender  home_final_score  \\\n",
       "url                                                                                                                                                                                          \n",
       "/teams/events/match_report/?EventGameId=7TjKJbS7SuldBH%2bWTYBDroKLQmwswKAqj7D8ef4ZAu0%3d          22                13          11          9  Nightlock  tct pro  women                15   \n",
       "\n",
       "                                                                                          home_score  home_seed    home_team level  year  abs_diff  \n",
       "url                                                                                                                                                 \n",
       "/teams/events/match_report/?EventGameId=7TjKJbS7SuldBH%2bWTYBDroKLQmwswKAqj7D8ef4ZAu0%3d          11          1  Brute Squad  club  2017         0  "
      ]
     },
     "execution_count": 9,
     "metadata": {},
     "output_type": "execute_result"
    }
   ],
   "source": [
    "results.loc[results[\"abs_diff\"] == 0]"
   ]
  },
  {
   "cell_type": "code",
   "execution_count": null,
   "metadata": {},
   "outputs": [],
   "source": []
  },
  {
   "cell_type": "code",
   "execution_count": 10,
   "metadata": {},
   "outputs": [],
   "source": [
    "penultimate = score_progressions.groupby(\"url\").nth(-2)\n",
    "penultimate = penultimate.loc[penultimate[\"away_score\"] + penultimate[\"home_score\"] > 0]"
   ]
  },
  {
   "cell_type": "code",
   "execution_count": 11,
   "metadata": {},
   "outputs": [
    {
     "data": {
      "text/plain": [
       " 0     136\n",
       "-1     113\n",
       "-4      98\n",
       "-2      90\n",
       "-3      83\n",
       "-5      78\n",
       " 1      70\n",
       "-6      59\n",
       "-7      54\n",
       " 2      53\n",
       " 4      40\n",
       " 3      39\n",
       "-8      33\n",
       " 5      27\n",
       "-9      25\n",
       "-10     19\n",
       " 6      13\n",
       "-12     13\n",
       "-11     12\n",
       " 7      10\n",
       " 8       7\n",
       " 9       6\n",
       "-14      6\n",
       " 12      4\n",
       " 11      4\n",
       "-13      4\n",
       " 14      4\n",
       " 13      1\n",
       " 10      1\n",
       "dtype: int64"
      ]
     },
     "execution_count": 11,
     "metadata": {},
     "output_type": "execute_result"
    }
   ],
   "source": [
    "(penultimate[\"away_score\"] - penultimate[\"home_score\"]).value_counts()"
   ]
  },
  {
   "cell_type": "code",
   "execution_count": 12,
   "metadata": {},
   "outputs": [
    {
     "data": {
      "text/plain": [
       "(array([ 136.,  183.,  143.,  122.,  138.,  105.,   72.,   64.,   40.,\n",
       "          31.,   20.,   16.,   17.,    5.,   10.]),\n",
       " array([  0.        ,   0.93333333,   1.86666667,   2.8       ,\n",
       "          3.73333333,   4.66666667,   5.6       ,   6.53333333,\n",
       "          7.46666667,   8.4       ,   9.33333333,  10.26666667,\n",
       "         11.2       ,  12.13333333,  13.06666667,  14.        ]),\n",
       " <a list of 15 Patch objects>)"
      ]
     },
     "execution_count": 12,
     "metadata": {},
     "output_type": "execute_result"
    },
    {
     "data": {
      "image/png": "[encoded data removed]",
      "text/plain": [
       "<matplotlib.figure.Figure at 0x5a6e8c24e0>"
      ]
     },
     "metadata": {},
     "output_type": "display_data"
    }
   ],
   "source": [
    "fig, ax = plt.subplots()\n",
    "ax.hist((penultimate[\"away_score\"] - penultimate[\"home_score\"]).abs(), bins=15, )"
   ]
  },
  {
   "cell_type": "code",
   "execution_count": 13,
   "metadata": {},
   "outputs": [
    {
     "data": {
      "text/plain": [
       "<seaborn.axisgrid.FacetGrid at 0x5a6e935ac8>"
      ]
     },
     "execution_count": 13,
     "metadata": {},
     "output_type": "execute_result"
    },
    {
     "data": {
      "image/png": "[encoded data removed]",
      "text/plain": [
       "<matplotlib.figure.Figure at 0x5a6e935a90>"
      ]
     },
     "metadata": {},
     "output_type": "display_data"
    }
   ],
   "source": [
    "g = sns.FacetGrid(results, col=\"gender\")\n",
    "g.map(plt.hist, \"abs_diff\", bins=15, range=(0, 15))"
   ]
  },
  {
   "cell_type": "code",
   "execution_count": null,
   "metadata": {},
   "outputs": [],
   "source": []
  },
  {
   "cell_type": "code",
   "execution_count": 14,
   "metadata": {},
   "outputs": [],
   "source": [
    "# Checking some bad scores\n",
    "# score_progressions[score_progressions[\"url\"] == \"/teams/events/match_report/?EventGameId=%2fUcjDT5HuHWYDP2F6uIbdm41Oa7C7rxzRne%2fir2Y6bw%3d\"]"
   ]
  },
  {
   "cell_type": "code",
   "execution_count": 32,
   "metadata": {},
   "outputs": [],
   "source": [
    "universe_set = penultimate.loc[penultimate[\"home_score\"] == penultimate[\"away_score\"]].index.values\n",
    "universe_progressions = score_progressions.loc[score_progressions[\"url\"].isin(universe_set)]"
   ]
  },
  {
   "cell_type": "code",
   "execution_count": null,
   "metadata": {},
   "outputs": [],
   "source": []
  },
  {
   "cell_type": "code",
   "execution_count": 33,
   "metadata": {},
   "outputs": [],
   "source": [
    "def delta_scores(df, half_score=8):\n",
    "    diff = df.diff()[1:].astype(int)\n",
    "    res = df[1:].copy()\n",
    "    res[[\"is_home_point\", \"is_away_point\"]] = diff\n",
    "    res[\"is_break\"] = (res[\"is_home_point\"].diff() == 0)\n",
    "    res[\"is_break\"] = res[\"is_break\"].apply(lambda x: \"break\" if x else \"hold\")\n",
    "    if not res.empty:\n",
    "        res[\"is_break\"].iloc[0] = \"start\"\n",
    "        home_half_idx = np.where(res[\"home_score\"] == half_score)[0]\n",
    "        away_half_idx = np.where(res[\"away_score\"] == half_score)[0]\n",
    "        half_idx = 2 * half_score + 1\n",
    "        if home_half_idx.shape[0] > 0:\n",
    "            half_idx = min(half_idx, home_half_idx[0])\n",
    "        if away_half_idx.shape[0] > 0:\n",
    "            half_idx = min(half_idx, away_half_idx[0])\n",
    "        if half_idx < min(2 * half_score + 1, res.shape[0] - 1):\n",
    "            same_start_half = (res[\"is_home_point\"].iloc[0] ==\n",
    "                               res[\"is_home_point\"].iloc[half_idx + 1])\n",
    "            res[\"is_break\"].iloc[half_idx + 1] = \"half_break\" if same_start_half else \"half\"\n",
    "    return res"
   ]
  },
  {
   "cell_type": "code",
   "execution_count": 34,
   "metadata": {},
   "outputs": [],
   "source": [
    "universe_breakdown = universe_progressions.groupby(\"url\")[[\"home_score\", \"away_score\"]].apply(delta_scores)"
   ]
  },
  {
   "cell_type": "code",
   "execution_count": 36,
   "metadata": {},
   "outputs": [
    {
     "data": {
      "text/plain": [
       "hold          2189\n",
       "break         1010\n",
       "start          136\n",
       "half            86\n",
       "half_break      49\n",
       "Name: is_break, dtype: int64"
      ]
     },
     "execution_count": 36,
     "metadata": {},
     "output_type": "execute_result"
    }
   ],
   "source": [
    "universe_breakdown[\"is_break\"].value_counts()"
   ]
  },
  {
   "cell_type": "code",
   "execution_count": 38,
   "metadata": {},
   "outputs": [
    {
     "data": {
      "text/plain": [
       "hold     89\n",
       "break    47\n",
       "Name: is_break, dtype: int64"
      ]
     },
     "execution_count": 38,
     "metadata": {},
     "output_type": "execute_result"
    }
   ],
   "source": [
    "universe_breakdown.groupby(\"url\")[\"is_break\"].nth(-1).value_counts()"
   ]
  },
  {
   "cell_type": "code",
   "execution_count": 39,
   "metadata": {},
   "outputs": [
    {
     "data": {
      "text/plain": [
       "(0.46139789858382824, 0.5280898876404494)"
      ]
     },
     "execution_count": 39,
     "metadata": {},
     "output_type": "execute_result"
    }
   ],
   "source": [
    "1010/2189, 47/89"
   ]
  },
  {
   "cell_type": "code",
   "execution_count": null,
   "metadata": {},
   "outputs": [],
   "source": []
  }
 ],
 "metadata": {
  "kernelspec": {
   "display_name": "Python 3",
   "language": "python",
   "name": "python3"
  },
  "language_info": {
   "codemirror_mode": {
    "name": "ipython",
    "version": 3
   },
   "file_extension": ".py",
   "mimetype": "text/x-python",
   "name": "python",
   "nbconvert_exporter": "python",
   "pygments_lexer": "ipython3",
   "version": "3.6.3"
  }
 },
 "nbformat": 4,
 "nbformat_minor": 2
}
